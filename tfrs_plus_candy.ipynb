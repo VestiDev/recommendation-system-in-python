{
 "cells": [
  {
   "cell_type": "code",
   "execution_count": 1,
   "metadata": {
    "id": "OoKIayZN_YAN"
   },
   "outputs": [],
   "source": [
    "# Adapted from: https://www.tensorflow.org/recommenders/examples/basic_retrieval"
   ]
  },
  {
   "cell_type": "code",
   "execution_count": 2,
   "metadata": {
    "id": "Yoiz2TyArmaU"
   },
   "outputs": [],
   "source": [
    "# !pip install -q tensorflow-recommenders"
   ]
  },
  {
   "cell_type": "markdown",
   "metadata": {
    "id": "XX_YyjXrO0lm"
   },
   "source": [
    "### Imports"
   ]
  },
  {
   "cell_type": "code",
   "execution_count": 3,
   "metadata": {
    "id": "CyEh9wowrfO6"
   },
   "outputs": [],
   "source": [
    "import pandas as pd\n",
    "\n",
    "from tensorflow.data import Dataset\n",
    "from tensorflow.keras import Sequential\n",
    "from tensorflow.keras.layers import Embedding, Dense\n",
    "from tensorflow.keras.layers.experimental.preprocessing import StringLookup\n",
    "from tensorflow.keras.optimizers import Adagrad\n",
    "\n",
    "import tensorflow as tf\n",
    "import tensorflow_recommenders as tfrs\n",
    "from tensorflow_recommenders.metrics import FactorizedTopK\n",
    "from tensorflow_recommenders.tasks import Retrieval"
   ]
  },
  {
   "cell_type": "markdown",
   "metadata": {
    "id": "Q_8N8SJZO48L"
   },
   "source": [
    "### Data"
   ]
  },
  {
   "cell_type": "code",
   "execution_count": 4,
   "metadata": {
    "id": "oJyYltm2rm81"
   },
   "outputs": [],
   "source": [
    "# from google.colab import files\n",
    "# files.upload()\n",
    "# df = pd.read_csv(\"candy.csv\")"
   ]
  },
  {
   "cell_type": "code",
   "execution_count": 5,
   "metadata": {
    "id": "2Ws4lIpNruA1"
   },
   "outputs": [],
   "source": [
    "df = pd.read_csv(\"https://raw.githubusercontent.com/maxhumber/BRE/master/data/candy.csv\")"
   ]
  },
  {
   "cell_type": "code",
   "execution_count": 6,
   "metadata": {
    "colab": {
     "base_uri": "https://localhost:8080/",
     "height": 206
    },
    "id": "5HOyu-L_BZP_",
    "outputId": "c2dc9b1b-1a2a-40d9-f981-a55c0c8e741e"
   },
   "outputs": [
    {
     "data": {
      "text/html": [
       "<div>\n",
       "<style scoped>\n",
       "    .dataframe tbody tr th:only-of-type {\n",
       "        vertical-align: middle;\n",
       "    }\n",
       "\n",
       "    .dataframe tbody tr th {\n",
       "        vertical-align: top;\n",
       "    }\n",
       "\n",
       "    .dataframe thead th {\n",
       "        text-align: right;\n",
       "    }\n",
       "</style>\n",
       "<table border=\"1\" class=\"dataframe\">\n",
       "  <thead>\n",
       "    <tr style=\"text-align: right;\">\n",
       "      <th></th>\n",
       "      <th>item</th>\n",
       "      <th>user</th>\n",
       "      <th>review</th>\n",
       "    </tr>\n",
       "  </thead>\n",
       "  <tbody>\n",
       "    <tr>\n",
       "      <th>0</th>\n",
       "      <td>Reese's Peanut Butter Cups Miniatures</td>\n",
       "      <td>darlene90</td>\n",
       "      <td>5</td>\n",
       "    </tr>\n",
       "    <tr>\n",
       "      <th>1</th>\n",
       "      <td>Reese's Peanut Butter Cups Miniatures</td>\n",
       "      <td>taylordarlene</td>\n",
       "      <td>4</td>\n",
       "    </tr>\n",
       "    <tr>\n",
       "      <th>2</th>\n",
       "      <td>Reese's Peanut Butter Cups Miniatures</td>\n",
       "      <td>aliciadennis</td>\n",
       "      <td>5</td>\n",
       "    </tr>\n",
       "    <tr>\n",
       "      <th>3</th>\n",
       "      <td>Reese's Peanut Butter Cups Miniatures</td>\n",
       "      <td>ocook</td>\n",
       "      <td>5</td>\n",
       "    </tr>\n",
       "    <tr>\n",
       "      <th>4</th>\n",
       "      <td>Reese's Peanut Butter Cups Miniatures</td>\n",
       "      <td>chad38</td>\n",
       "      <td>5</td>\n",
       "    </tr>\n",
       "  </tbody>\n",
       "</table>\n",
       "</div>"
      ],
      "text/plain": [
       "                                    item           user  review\n",
       "0  Reese's Peanut Butter Cups Miniatures      darlene90       5\n",
       "1  Reese's Peanut Butter Cups Miniatures  taylordarlene       4\n",
       "2  Reese's Peanut Butter Cups Miniatures   aliciadennis       5\n",
       "3  Reese's Peanut Butter Cups Miniatures          ocook       5\n",
       "4  Reese's Peanut Butter Cups Miniatures         chad38       5"
      ]
     },
     "execution_count": 6,
     "metadata": {},
     "output_type": "execute_result"
    }
   ],
   "source": [
    "df.head()"
   ]
  },
  {
   "cell_type": "code",
   "execution_count": 7,
   "metadata": {
    "id": "suBTLqsZBXhy"
   },
   "outputs": [],
   "source": [
    "dataset = Dataset.from_tensor_slices(df.to_dict('list'))\n",
    "items = Dataset.from_tensor_slices(df['item'].unique())"
   ]
  },
  {
   "cell_type": "code",
   "execution_count": 8,
   "metadata": {
    "colab": {
     "base_uri": "https://localhost:8080/",
     "height": 34
    },
    "id": "Njn6IqXauUnF",
    "outputId": "a6494547-ad0b-4f94-c39c-f3c217cab636"
   },
   "outputs": [
    {
     "name": "stdout",
     "output_type": "stream",
     "text": [
      "{'item': b\"Reese's Peanut Butter Cups Miniatures\", 'user': b'darlene90', 'review': 5}\n"
     ]
    }
   ],
   "source": [
    "for row in dataset.take(1).as_numpy_iterator():\n",
    "    print(row)"
   ]
  },
  {
   "cell_type": "markdown",
   "metadata": {
    "id": "zLeH-_FlO7-m"
   },
   "source": [
    "### Train/Test Split"
   ]
  },
  {
   "cell_type": "code",
   "execution_count": 9,
   "metadata": {
    "colab": {
     "base_uri": "https://localhost:8080/",
     "height": 34
    },
    "id": "SXMnYpk8vRSn",
    "outputId": "26385968-61b7-4beb-f3fc-b85cbfeac11c"
   },
   "outputs": [
    {
     "name": "stdout",
     "output_type": "stream",
     "text": [
      "13787 3447\n"
     ]
    }
   ],
   "source": [
    "rows = df.shape[0]\n",
    "n_train = int(rows * 0.8 // 1)\n",
    "n_test = rows - n_train\n",
    "\n",
    "print(n_train, n_test)"
   ]
  },
  {
   "cell_type": "code",
   "execution_count": 10,
   "metadata": {
    "id": "QQF_Yivru1WH"
   },
   "outputs": [],
   "source": [
    "tf.random.set_seed(42)\n",
    "shuffled = dataset.shuffle(rows, seed=42, reshuffle_each_iteration=False)\n",
    "\n",
    "train = shuffled.take(n_train)\n",
    "test = shuffled.skip(n_train).take(n_test)"
   ]
  },
  {
   "cell_type": "markdown",
   "metadata": {
    "id": "JqS1i4hNPBxM"
   },
   "source": [
    "### Model Definition"
   ]
  },
  {
   "cell_type": "code",
   "execution_count": 11,
   "metadata": {
    "id": "5Pm1QlVAv-QH"
   },
   "outputs": [],
   "source": [
    "unique_items = df.item.unique()\n",
    "unique_users = df.user.unique()"
   ]
  },
  {
   "cell_type": "code",
   "execution_count": 12,
   "metadata": {
    "id": "wSAdcspLBnfE"
   },
   "outputs": [],
   "source": [
    "embedding_dimension = 32"
   ]
  },
  {
   "cell_type": "code",
   "execution_count": 13,
   "metadata": {
    "id": "g0NrnhoG1ee-"
   },
   "outputs": [],
   "source": [
    "user_model = Sequential([\n",
    "    StringLookup(vocabulary=unique_users),\n",
    "    # add 2 to account for unknown and mask tokens\n",
    "    Embedding(len(unique_users) + 2, embedding_dimension)   \n",
    "])"
   ]
  },
  {
   "cell_type": "code",
   "execution_count": 14,
   "metadata": {
    "id": "j8b38uPo1rXb"
   },
   "outputs": [],
   "source": [
    "item_model = Sequential([\n",
    "    StringLookup(vocabulary=unique_items),\n",
    "    Embedding(len(unique_items) + 2, embedding_dimension)\n",
    "])"
   ]
  },
  {
   "cell_type": "code",
   "execution_count": 15,
   "metadata": {
    "id": "VJyMWaqS3-uM"
   },
   "outputs": [],
   "source": [
    "metrics = FactorizedTopK(candidates=items.batch(128).map(item_model))"
   ]
  },
  {
   "cell_type": "code",
   "execution_count": 16,
   "metadata": {
    "id": "2TJU3_U_76QH"
   },
   "outputs": [],
   "source": [
    "task = Retrieval(metrics=metrics)"
   ]
  },
  {
   "cell_type": "code",
   "execution_count": 17,
   "metadata": {
    "colab": {
     "base_uri": "https://localhost:8080/",
     "height": 34
    },
    "id": "vx0aCSkf8PCn",
    "outputId": "d4e21003-ce48-4ccf-de39-98d4ff2f720b"
   },
   "outputs": [
    {
     "name": "stdout",
     "output_type": "stream",
     "text": [
      "{'item': b\"Reese's Peanut Butter Cups Miniatures\", 'user': b'darlene90', 'review': 5}\n"
     ]
    }
   ],
   "source": [
    "for row in dataset.take(1).as_numpy_iterator():\n",
    "    print(row)"
   ]
  },
  {
   "cell_type": "code",
   "execution_count": 18,
   "metadata": {
    "id": "I1rGr1Xf8Dsq"
   },
   "outputs": [],
   "source": [
    "class CandyModel(tfrs.Model):\n",
    "\n",
    "    def __init__(self, user_model, item_model, task):\n",
    "        super().__init__()\n",
    "        self.item_model = item_model\n",
    "        self.user_model = user_model\n",
    "        self.task = task\n",
    "\n",
    "    def compute_loss(self, features, training=False):\n",
    "        user_embeddings = self.user_model(features[\"user\"])\n",
    "        positive_item_embeddings = self.item_model(features[\"item\"])\n",
    "        return self.task(user_embeddings, positive_item_embeddings)"
   ]
  },
  {
   "cell_type": "markdown",
   "metadata": {
    "id": "m_Sgg-azPOrU"
   },
   "source": [
    "### Model Training"
   ]
  },
  {
   "cell_type": "code",
   "execution_count": 19,
   "metadata": {
    "id": "DimUZ4668boP"
   },
   "outputs": [],
   "source": [
    "model = CandyModel(user_model, item_model, task)\n",
    "model.compile(optimizer=Adagrad(learning_rate=0.1))"
   ]
  },
  {
   "cell_type": "code",
   "execution_count": 20,
   "metadata": {
    "id": "NSDbSGXB90H7"
   },
   "outputs": [],
   "source": [
    "cached_train = train.batch(128).cache()\n",
    "cached_test = test.batch(128).cache()"
   ]
  },
  {
   "cell_type": "code",
   "execution_count": 21,
   "metadata": {
    "colab": {
     "base_uri": "https://localhost:8080/",
     "height": 159
    },
    "id": "ttkSL-2o8e1f",
    "outputId": "8880f336-cdfc-41a6-a6a1-93731d1795e2"
   },
   "outputs": [
    {
     "name": "stdout",
     "output_type": "stream",
     "text": [
      "Epoch 1/3\n",
      "WARNING:tensorflow:The dtype of the source tensor must be floating (e.g. tf.float32) when calling GradientTape.gradient, got tf.int32\n",
      "WARNING:tensorflow:Gradients do not exist for variables ['counter:0'] when minimizing the loss.\n",
      "WARNING:tensorflow:The dtype of the source tensor must be floating (e.g. tf.float32) when calling GradientTape.gradient, got tf.int32\n",
      "WARNING:tensorflow:Gradients do not exist for variables ['counter:0'] when minimizing the loss.\n",
      "108/108 [==============================] - 3s 32ms/step - factorized_top_k/top_1_categorical_accuracy: 0.0000e+00 - factorized_top_k/top_5_categorical_accuracy: 0.0585 - factorized_top_k/top_10_categorical_accuracy: 0.1348 - factorized_top_k/top_50_categorical_accuracy: 0.4688 - factorized_top_k/top_100_categorical_accuracy: 0.7617 - loss: 614.4836 - regularization_loss: 0.0000e+00 - total_loss: 614.4836\n",
      "Epoch 2/3\n",
      "108/108 [==============================] - 3s 31ms/step - factorized_top_k/top_1_categorical_accuracy: 0.0030 - factorized_top_k/top_5_categorical_accuracy: 0.1881 - factorized_top_k/top_10_categorical_accuracy: 0.3489 - factorized_top_k/top_50_categorical_accuracy: 0.7820 - factorized_top_k/top_100_categorical_accuracy: 0.9410 - loss: 564.4349 - regularization_loss: 0.0000e+00 - total_loss: 564.4349\n",
      "Epoch 3/3\n",
      "108/108 [==============================] - 3s 31ms/step - factorized_top_k/top_1_categorical_accuracy: 0.0053 - factorized_top_k/top_5_categorical_accuracy: 0.2942 - factorized_top_k/top_10_categorical_accuracy: 0.5032 - factorized_top_k/top_50_categorical_accuracy: 0.9047 - factorized_top_k/top_100_categorical_accuracy: 0.9875 - loss: 496.8172 - regularization_loss: 0.0000e+00 - total_loss: 496.8172\n"
     ]
    },
    {
     "data": {
      "text/plain": [
       "<tensorflow.python.keras.callbacks.History at 0x7ff9858caa00>"
      ]
     },
     "execution_count": 21,
     "metadata": {},
     "output_type": "execute_result"
    }
   ],
   "source": [
    "model.fit(cached_train, epochs=3)"
   ]
  },
  {
   "cell_type": "code",
   "execution_count": 22,
   "metadata": {
    "colab": {
     "base_uri": "https://localhost:8080/",
     "height": 228
    },
    "id": "_lsquCv7tKZH",
    "outputId": "6f4aacd5-e66b-474b-ddbc-f7606b946d86"
   },
   "outputs": [
    {
     "name": "stdout",
     "output_type": "stream",
     "text": [
      "27/27 [==============================] - 1s 32ms/step - factorized_top_k/top_1_categorical_accuracy: 0.0044 - factorized_top_k/top_5_categorical_accuracy: 0.0925 - factorized_top_k/top_10_categorical_accuracy: 0.2388 - factorized_top_k/top_50_categorical_accuracy: 0.7067 - factorized_top_k/top_100_categorical_accuracy: 0.9150 - loss: 581.8089 - regularization_loss: 0.0000e+00 - total_loss: 581.8089\n"
     ]
    },
    {
     "data": {
      "text/plain": [
       "{'factorized_top_k/top_1_categorical_accuracy': 0.004351610317826271,\n",
       " 'factorized_top_k/top_5_categorical_accuracy': 0.09254424273967743,\n",
       " 'factorized_top_k/top_10_categorical_accuracy': 0.23875834047794342,\n",
       " 'factorized_top_k/top_50_categorical_accuracy': 0.7067014575004578,\n",
       " 'factorized_top_k/top_100_categorical_accuracy': 0.9149985313415527,\n",
       " 'loss': 534.1340942382812,\n",
       " 'regularization_loss': 0,\n",
       " 'total_loss': 534.1340942382812}"
      ]
     },
     "execution_count": 22,
     "metadata": {},
     "output_type": "execute_result"
    }
   ],
   "source": [
    "model.evaluate(cached_test, return_dict=True)"
   ]
  },
  {
   "cell_type": "markdown",
   "metadata": {
    "id": "fLxAF56XPRcf"
   },
   "source": [
    "### Predictions"
   ]
  },
  {
   "cell_type": "code",
   "execution_count": 23,
   "metadata": {
    "id": "fuwCobtxLkUT"
   },
   "outputs": [
    {
     "data": {
      "text/plain": [
       "<tensorflow_recommenders.layers.factorized_top_k.BruteForce at 0x7ff9858a1a60>"
      ]
     },
     "execution_count": 23,
     "metadata": {},
     "output_type": "execute_result"
    }
   ],
   "source": [
    "# Create a model that takes in raw query features, and\n",
    "index = tfrs.layers.factorized_top_k.BruteForce(model.user_model)\n",
    "# recommends candies out of the entire candy dataset.\n",
    "index.index(items.batch(100).map(model.item_model), items)"
   ]
  },
  {
   "cell_type": "code",
   "execution_count": 24,
   "metadata": {
    "id": "mRwp7YidMLfk"
   },
   "outputs": [],
   "source": [
    "_, candies = index(tf.constant([\"taylordarlene\"]))"
   ]
  },
  {
   "cell_type": "code",
   "execution_count": 25,
   "metadata": {
    "colab": {
     "base_uri": "https://localhost:8080/",
     "height": 206
    },
    "id": "xGmQehw6M5rE",
    "outputId": "bab5c896-9203-46d1-bd26-f024df5c53e3"
   },
   "outputs": [
    {
     "data": {
      "text/html": [
       "<div>\n",
       "<style scoped>\n",
       "    .dataframe tbody tr th:only-of-type {\n",
       "        vertical-align: middle;\n",
       "    }\n",
       "\n",
       "    .dataframe tbody tr th {\n",
       "        vertical-align: top;\n",
       "    }\n",
       "\n",
       "    .dataframe thead th {\n",
       "        text-align: right;\n",
       "    }\n",
       "</style>\n",
       "<table border=\"1\" class=\"dataframe\">\n",
       "  <thead>\n",
       "    <tr style=\"text-align: right;\">\n",
       "      <th></th>\n",
       "      <th>item</th>\n",
       "      <th>user</th>\n",
       "      <th>review</th>\n",
       "    </tr>\n",
       "  </thead>\n",
       "  <tbody>\n",
       "    <tr>\n",
       "      <th>1</th>\n",
       "      <td>Reese's Peanut Butter Cups Miniatures</td>\n",
       "      <td>taylordarlene</td>\n",
       "      <td>4</td>\n",
       "    </tr>\n",
       "    <tr>\n",
       "      <th>34</th>\n",
       "      <td>Ferrero Rocher Chocolate</td>\n",
       "      <td>taylordarlene</td>\n",
       "      <td>5</td>\n",
       "    </tr>\n",
       "    <tr>\n",
       "      <th>266</th>\n",
       "      <td>Twix</td>\n",
       "      <td>taylordarlene</td>\n",
       "      <td>5</td>\n",
       "    </tr>\n",
       "    <tr>\n",
       "      <th>665</th>\n",
       "      <td>M&amp;Ms Peanut Chocolate Candy</td>\n",
       "      <td>taylordarlene</td>\n",
       "      <td>5</td>\n",
       "    </tr>\n",
       "    <tr>\n",
       "      <th>872</th>\n",
       "      <td>Snickers Chocolate Bar</td>\n",
       "      <td>taylordarlene</td>\n",
       "      <td>5</td>\n",
       "    </tr>\n",
       "  </tbody>\n",
       "</table>\n",
       "</div>"
      ],
      "text/plain": [
       "                                      item           user  review\n",
       "1    Reese's Peanut Butter Cups Miniatures  taylordarlene       4\n",
       "34                Ferrero Rocher Chocolate  taylordarlene       5\n",
       "266                                   Twix  taylordarlene       5\n",
       "665            M&Ms Peanut Chocolate Candy  taylordarlene       5\n",
       "872                 Snickers Chocolate Bar  taylordarlene       5"
      ]
     },
     "execution_count": 25,
     "metadata": {},
     "output_type": "execute_result"
    }
   ],
   "source": [
    "df[df['user'] == \"taylordarlene\"]"
   ]
  },
  {
   "cell_type": "code",
   "execution_count": 26,
   "metadata": {
    "colab": {
     "base_uri": "https://localhost:8080/",
     "height": 191
    },
    "id": "FnUcDnjHMeVm",
    "outputId": "50c6988e-8c13-49ed-84ad-e4cf12822717"
   },
   "outputs": [
    {
     "data": {
      "text/plain": [
       "[b'Ferrero Rocher Chocolate',\n",
       " b\"Reese's Peanut Butter Cups Miniatures\",\n",
       " b'M&Ms Peanut Chocolate Candy',\n",
       " b'Snickers Chocolate Bar',\n",
       " b'Twix',\n",
       " b'Lindt Lindor Milk Chocolate Truffles',\n",
       " b'M&Ms Milk Chocolate Candy',\n",
       " b\"Hershey's Cookies 'n' Creme Candy Bar\",\n",
       " b\"Hershey's Kisses Milk Chocolate\",\n",
       " b'Nestle Toll House Semi Sweet Chocolate Morsels']"
      ]
     },
     "execution_count": 26,
     "metadata": {},
     "output_type": "execute_result"
    }
   ],
   "source": [
    "candies[0].numpy().tolist()"
   ]
  },
  {
   "cell_type": "markdown",
   "metadata": {
    "id": "b4Xy0uKGsvH2"
   },
   "source": [
    "### Ranking Models"
   ]
  },
  {
   "cell_type": "code",
   "execution_count": 27,
   "metadata": {
    "id": "MiY3B7QfstpW"
   },
   "outputs": [],
   "source": [
    "# Adapted from https://www.tensorflow.org/recommenders/examples/basic_ranking"
   ]
  },
  {
   "cell_type": "code",
   "execution_count": 28,
   "metadata": {
    "id": "Lm83a9n7-Hnx"
   },
   "outputs": [],
   "source": [
    "class RankingModel(tf.keras.Model):\n",
    "\n",
    "    def __init__(self, unique_users, unique_items, embedding_dimension=32):\n",
    "        super().__init__()\n",
    "        self.embedding_dimension = embedding_dimension\n",
    "        self.user_embeddings = Sequential([\n",
    "            StringLookup(vocabulary=unique_users),\n",
    "            Embedding(len(unique_users) + 2, self.embedding_dimension)\n",
    "        ])\n",
    "        self.item_embeddings = Sequential([\n",
    "            StringLookup(vocabulary=unique_items),\n",
    "            Embedding(len(unique_items) + 2, self.embedding_dimension)\n",
    "        ])\n",
    "        self.ratings = Sequential([\n",
    "            # Learn multiple dense layers\n",
    "            Dense(256, activation=\"relu\"),\n",
    "            Dense(64, activation=\"relu\"),\n",
    "            # Make rating predictions in the final layer\n",
    "            Dense(1)\n",
    "        ])\n",
    "    \n",
    "    def call(self, user, item):\n",
    "        user_embedding = self.user_embeddings(user)\n",
    "        item_embedding = self.item_embeddings(item)\n",
    "        return self.ratings(tf.concat([user_embedding, item_embedding], axis=1))"
   ]
  },
  {
   "cell_type": "code",
   "execution_count": 29,
   "metadata": {
    "id": "Y3Hd_9zbubQr"
   },
   "outputs": [],
   "source": [
    "task = tfrs.tasks.Ranking(\n",
    "    loss = tf.keras.losses.MeanSquaredError(),\n",
    "    metrics=[tf.keras.metrics.RootMeanSquaredError()]\n",
    ")"
   ]
  },
  {
   "cell_type": "code",
   "execution_count": 30,
   "metadata": {
    "id": "CPf3tNdaugSY"
   },
   "outputs": [],
   "source": [
    "class CandyRankingModel(tfrs.Model):\n",
    "\n",
    "    def __init__(self, ranking_model, task):\n",
    "        super().__init__()\n",
    "        self.ranking_model = ranking_model\n",
    "        self.task = task\n",
    "\n",
    "    def compute_loss(self, features, training=False):\n",
    "        rating_predictions = self.ranking_model(features[\"user\"], features[\"item\"])\n",
    "        # The task computes the loss and the metrics.\n",
    "        return self.task(labels=features[\"review\"], predictions=rating_predictions)\n"
   ]
  },
  {
   "cell_type": "code",
   "execution_count": 31,
   "metadata": {
    "id": "zIShXAY7u6LU"
   },
   "outputs": [],
   "source": [
    "ranking_model = RankingModel(unique_users, unique_items)\n",
    "model = CandyRankingModel(ranking_model, task)"
   ]
  },
  {
   "cell_type": "code",
   "execution_count": 32,
   "metadata": {
    "id": "hbxvDcaevMUp"
   },
   "outputs": [],
   "source": [
    "model.compile(optimizer=Adagrad(learning_rate=0.1))"
   ]
  },
  {
   "cell_type": "code",
   "execution_count": 33,
   "metadata": {
    "colab": {
     "base_uri": "https://localhost:8080/",
     "height": 1000
    },
    "id": "MO-qjPbdu_z7",
    "outputId": "e70e88c2-dfae-48a1-9a8b-a9f56fe1b140"
   },
   "outputs": [
    {
     "name": "stdout",
     "output_type": "stream",
     "text": [
      "Epoch 1/50\n",
      "108/108 [==============================] - 0s 1ms/step - root_mean_squared_error: 1.1364 - loss: 1.2826 - regularization_loss: 0.0000e+00 - total_loss: 1.2826\n",
      "Epoch 2/50\n",
      "108/108 [==============================] - 0s 949us/step - root_mean_squared_error: 0.8068 - loss: 0.6486 - regularization_loss: 0.0000e+00 - total_loss: 0.6486\n",
      "Epoch 3/50\n",
      "108/108 [==============================] - 0s 950us/step - root_mean_squared_error: 0.7679 - loss: 0.5874 - regularization_loss: 0.0000e+00 - total_loss: 0.5874\n",
      "Epoch 4/50\n",
      "108/108 [==============================] - 0s 1ms/step - root_mean_squared_error: 0.7489 - loss: 0.5584 - regularization_loss: 0.0000e+00 - total_loss: 0.5584\n",
      "Epoch 5/50\n",
      "108/108 [==============================] - 0s 933us/step - root_mean_squared_error: 0.7376 - loss: 0.5415 - regularization_loss: 0.0000e+00 - total_loss: 0.5415\n",
      "Epoch 6/50\n",
      "108/108 [==============================] - 0s 945us/step - root_mean_squared_error: 0.7286 - loss: 0.5282 - regularization_loss: 0.0000e+00 - total_loss: 0.5282\n",
      "Epoch 7/50\n",
      "108/108 [==============================] - 0s 1ms/step - root_mean_squared_error: 0.7197 - loss: 0.5153 - regularization_loss: 0.0000e+00 - total_loss: 0.5153\n",
      "Epoch 8/50\n",
      "108/108 [==============================] - 0s 1ms/step - root_mean_squared_error: 0.7110 - loss: 0.5026 - regularization_loss: 0.0000e+00 - total_loss: 0.5026\n",
      "Epoch 9/50\n",
      "108/108 [==============================] - 0s 2ms/step - root_mean_squared_error: 0.7029 - loss: 0.4911 - regularization_loss: 0.0000e+00 - total_loss: 0.4911\n",
      "Epoch 10/50\n",
      "108/108 [==============================] - 0s 1ms/step - root_mean_squared_error: 0.6946 - loss: 0.4797 - regularization_loss: 0.0000e+00 - total_loss: 0.4797\n",
      "Epoch 11/50\n",
      "108/108 [==============================] - 0s 1ms/step - root_mean_squared_error: 0.6853 - loss: 0.4669 - regularization_loss: 0.0000e+00 - total_loss: 0.4669\n",
      "Epoch 12/50\n",
      "108/108 [==============================] - 0s 1ms/step - root_mean_squared_error: 0.6749 - loss: 0.4528 - regularization_loss: 0.0000e+00 - total_loss: 0.4528\n",
      "Epoch 13/50\n",
      "108/108 [==============================] - 0s 1ms/step - root_mean_squared_error: 0.6635 - loss: 0.4376 - regularization_loss: 0.0000e+00 - total_loss: 0.4376\n",
      "Epoch 14/50\n",
      "108/108 [==============================] - 0s 929us/step - root_mean_squared_error: 0.6531 - loss: 0.4241 - regularization_loss: 0.0000e+00 - total_loss: 0.4241\n",
      "Epoch 15/50\n",
      "108/108 [==============================] - 0s 966us/step - root_mean_squared_error: 0.6441 - loss: 0.4124 - regularization_loss: 0.0000e+00 - total_loss: 0.4124\n",
      "Epoch 16/50\n",
      "108/108 [==============================] - 0s 901us/step - root_mean_squared_error: 0.6361 - loss: 0.4023 - regularization_loss: 0.0000e+00 - total_loss: 0.4023\n",
      "Epoch 17/50\n",
      "108/108 [==============================] - 0s 965us/step - root_mean_squared_error: 0.6287 - loss: 0.3930 - regularization_loss: 0.0000e+00 - total_loss: 0.3930\n",
      "Epoch 18/50\n",
      "108/108 [==============================] - 0s 926us/step - root_mean_squared_error: 0.6215 - loss: 0.3840 - regularization_loss: 0.0000e+00 - total_loss: 0.3840\n",
      "Epoch 19/50\n",
      "108/108 [==============================] - 0s 1ms/step - root_mean_squared_error: 0.6144 - loss: 0.3753 - regularization_loss: 0.0000e+00 - total_loss: 0.3753\n",
      "Epoch 20/50\n",
      "108/108 [==============================] - 0s 962us/step - root_mean_squared_error: 0.6065 - loss: 0.3657 - regularization_loss: 0.0000e+00 - total_loss: 0.3657\n",
      "Epoch 21/50\n",
      "108/108 [==============================] - 0s 1ms/step - root_mean_squared_error: 0.5984 - loss: 0.3559 - regularization_loss: 0.0000e+00 - total_loss: 0.3559\n",
      "Epoch 22/50\n",
      "108/108 [==============================] - 0s 1ms/step - root_mean_squared_error: 0.5884 - loss: 0.3441 - regularization_loss: 0.0000e+00 - total_loss: 0.3441\n",
      "Epoch 23/50\n",
      "108/108 [==============================] - 0s 1ms/step - root_mean_squared_error: 0.5770 - loss: 0.3308 - regularization_loss: 0.0000e+00 - total_loss: 0.3308\n",
      "Epoch 24/50\n",
      "108/108 [==============================] - 0s 977us/step - root_mean_squared_error: 0.5628 - loss: 0.3148 - regularization_loss: 0.0000e+00 - total_loss: 0.3148\n",
      "Epoch 25/50\n",
      "108/108 [==============================] - 0s 1ms/step - root_mean_squared_error: 0.5464 - loss: 0.2967 - regularization_loss: 0.0000e+00 - total_loss: 0.2967\n",
      "Epoch 26/50\n",
      "108/108 [==============================] - 0s 981us/step - root_mean_squared_error: 0.5367 - loss: 0.2862 - regularization_loss: 0.0000e+00 - total_loss: 0.2862\n",
      "Epoch 27/50\n",
      "108/108 [==============================] - 0s 1ms/step - root_mean_squared_error: 0.5249 - loss: 0.2738 - regularization_loss: 0.0000e+00 - total_loss: 0.2738\n",
      "Epoch 28/50\n",
      "108/108 [==============================] - 0s 1ms/step - root_mean_squared_error: 0.4964 - loss: 0.2449 - regularization_loss: 0.0000e+00 - total_loss: 0.2449\n",
      "Epoch 29/50\n",
      "108/108 [==============================] - 0s 1ms/step - root_mean_squared_error: 0.4718 - loss: 0.2213 - regularization_loss: 0.0000e+00 - total_loss: 0.2213\n",
      "Epoch 30/50\n",
      "108/108 [==============================] - 0s 1ms/step - root_mean_squared_error: 0.4500 - loss: 0.2014 - regularization_loss: 0.0000e+00 - total_loss: 0.2014\n",
      "Epoch 31/50\n",
      "108/108 [==============================] - 0s 1ms/step - root_mean_squared_error: 0.4339 - loss: 0.1872 - regularization_loss: 0.0000e+00 - total_loss: 0.1872\n",
      "Epoch 32/50\n",
      "108/108 [==============================] - 0s 1ms/step - root_mean_squared_error: 0.4050 - loss: 0.1632 - regularization_loss: 0.0000e+00 - total_loss: 0.1632\n",
      "Epoch 33/50\n",
      "108/108 [==============================] - 0s 1ms/step - root_mean_squared_error: 0.3806 - loss: 0.1439 - regularization_loss: 0.0000e+00 - total_loss: 0.1439\n",
      "Epoch 34/50\n",
      "108/108 [==============================] - 0s 2ms/step - root_mean_squared_error: 0.3510 - loss: 0.1229 - regularization_loss: 0.0000e+00 - total_loss: 0.1229\n",
      "Epoch 35/50\n",
      "108/108 [==============================] - 0s 2ms/step - root_mean_squared_error: 0.3292 - loss: 0.1077 - regularization_loss: 0.0000e+00 - total_loss: 0.1077\n",
      "Epoch 36/50\n",
      "108/108 [==============================] - 0s 1ms/step - root_mean_squared_error: 0.3046 - loss: 0.0926 - regularization_loss: 0.0000e+00 - total_loss: 0.0926\n",
      "Epoch 37/50\n",
      "108/108 [==============================] - 0s 2ms/step - root_mean_squared_error: 0.2855 - loss: 0.0811 - regularization_loss: 0.0000e+00 - total_loss: 0.0811\n",
      "Epoch 38/50\n",
      "108/108 [==============================] - 0s 2ms/step - root_mean_squared_error: 0.2652 - loss: 0.0702 - regularization_loss: 0.0000e+00 - total_loss: 0.0702\n",
      "Epoch 39/50\n",
      "108/108 [==============================] - 0s 2ms/step - root_mean_squared_error: 0.2493 - loss: 0.0619 - regularization_loss: 0.0000e+00 - total_loss: 0.0619\n",
      "Epoch 40/50\n",
      "108/108 [==============================] - 0s 2ms/step - root_mean_squared_error: 0.2306 - loss: 0.0532 - regularization_loss: 0.0000e+00 - total_loss: 0.0532\n",
      "Epoch 41/50\n",
      "108/108 [==============================] - 0s 2ms/step - root_mean_squared_error: 0.2149 - loss: 0.0461 - regularization_loss: 0.0000e+00 - total_loss: 0.0461\n",
      "Epoch 42/50\n",
      "108/108 [==============================] - 0s 2ms/step - root_mean_squared_error: 0.2002 - loss: 0.0400 - regularization_loss: 0.0000e+00 - total_loss: 0.0400\n",
      "Epoch 43/50\n",
      "108/108 [==============================] - 0s 1ms/step - root_mean_squared_error: 0.1843 - loss: 0.0338 - regularization_loss: 0.0000e+00 - total_loss: 0.0338\n",
      "Epoch 44/50\n",
      "108/108 [==============================] - 0s 1ms/step - root_mean_squared_error: 0.1714 - loss: 0.0293 - regularization_loss: 0.0000e+00 - total_loss: 0.0293\n",
      "Epoch 45/50\n",
      "108/108 [==============================] - 0s 1ms/step - root_mean_squared_error: 0.1615 - loss: 0.0260 - regularization_loss: 0.0000e+00 - total_loss: 0.0260\n",
      "Epoch 46/50\n",
      "108/108 [==============================] - 0s 1ms/step - root_mean_squared_error: 0.1537 - loss: 0.0235 - regularization_loss: 0.0000e+00 - total_loss: 0.0235\n",
      "Epoch 47/50\n",
      "108/108 [==============================] - 0s 1ms/step - root_mean_squared_error: 0.1471 - loss: 0.0216 - regularization_loss: 0.0000e+00 - total_loss: 0.0216\n",
      "Epoch 48/50\n"
     ]
    },
    {
     "name": "stdout",
     "output_type": "stream",
     "text": [
      "108/108 [==============================] - 0s 1ms/step - root_mean_squared_error: 0.1421 - loss: 0.0201 - regularization_loss: 0.0000e+00 - total_loss: 0.0201\n",
      "Epoch 49/50\n",
      "108/108 [==============================] - 0s 1ms/step - root_mean_squared_error: 0.1340 - loss: 0.0179 - regularization_loss: 0.0000e+00 - total_loss: 0.0179\n",
      "Epoch 50/50\n",
      "108/108 [==============================] - 0s 927us/step - root_mean_squared_error: 0.1280 - loss: 0.0163 - regularization_loss: 0.0000e+00 - total_loss: 0.0163\n"
     ]
    },
    {
     "data": {
      "text/plain": [
       "<tensorflow.python.keras.callbacks.History at 0x7ff98b5c4e20>"
      ]
     },
     "execution_count": 33,
     "metadata": {},
     "output_type": "execute_result"
    }
   ],
   "source": [
    "model.fit(cached_train, epochs=50)"
   ]
  },
  {
   "cell_type": "code",
   "execution_count": 34,
   "metadata": {
    "colab": {
     "base_uri": "https://localhost:8080/",
     "height": 124
    },
    "id": "1n4EuEWkvKb0",
    "outputId": "bd31677c-8a2c-446c-8447-6c7ec59cd05d"
   },
   "outputs": [
    {
     "name": "stdout",
     "output_type": "stream",
     "text": [
      "27/27 [==============================] - 0s 968us/step - root_mean_squared_error: 0.9843 - loss: 0.9722 - regularization_loss: 0.0000e+00 - total_loss: 0.9722\n"
     ]
    },
    {
     "data": {
      "text/plain": [
       "{'root_mean_squared_error': 0.9842686653137207,\n",
       " 'loss': 1.0588135719299316,\n",
       " 'regularization_loss': 0,\n",
       " 'total_loss': 1.0588135719299316}"
      ]
     },
     "execution_count": 34,
     "metadata": {},
     "output_type": "execute_result"
    }
   ],
   "source": [
    "model.evaluate(cached_test, return_dict=True)"
   ]
  }
 ],
 "metadata": {
  "colab": {
   "collapsed_sections": [],
   "name": "tfrs_plus_candy",
   "provenance": []
  },
  "kernelspec": {
   "display_name": "Python 3",
   "language": "python",
   "name": "python3"
  },
  "language_info": {
   "codemirror_mode": {
    "name": "ipython",
    "version": 3
   },
   "file_extension": ".py",
   "mimetype": "text/x-python",
   "name": "python",
   "nbconvert_exporter": "python",
   "pygments_lexer": "ipython3",
   "version": "3.8.3"
  }
 },
 "nbformat": 4,
 "nbformat_minor": 1
}
